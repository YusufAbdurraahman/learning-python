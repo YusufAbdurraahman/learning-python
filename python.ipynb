{
  "nbformat": 4,
  "nbformat_minor": 0,
  "metadata": {
    "colab": {
      "provenance": [],
      "authorship_tag": "ABX9TyMrHnar6JEZLpKDRRCZ4LFp",
      "include_colab_link": true
    },
    "kernelspec": {
      "name": "python3",
      "display_name": "Python 3"
    },
    "language_info": {
      "name": "python"
    }
  },
  "cells": [
    {
      "cell_type": "markdown",
      "metadata": {
        "id": "view-in-github",
        "colab_type": "text"
      },
      "source": [
        "<a href=\"https://colab.research.google.com/github/YusufAbdurraahman/learning-python/blob/main/python.ipynb\" target=\"_parent\"><img src=\"https://colab.research.google.com/assets/colab-badge.svg\" alt=\"Open In Colab\"/></a>"
      ]
    },
    {
      "cell_type": "code",
      "execution_count": 35,
      "metadata": {
        "colab": {
          "base_uri": "https://localhost:8080/"
        },
        "id": "vGqfohpvVrth",
        "outputId": "6fc2d018-b9e0-4f7f-c039-b1023d196af3"
      },
      "outputs": [
        {
          "output_type": "stream",
          "name": "stdout",
          "text": [
            "Masukkan nama anda : tes\n",
            "Masukkan umur anda : 18\n",
            "Nama anda adalah :tes\n",
            "Umur anda : 18 tahun\n",
            "<class 'int'>\n"
          ]
        }
      ],
      "source": [
        "nama = input(\"Masukkan nama anda : \")\n",
        "umur = int(input(\"Masukkan umur anda : \"))\n",
        "\n",
        "print(f\"Nama anda adalah :{nama}\")\n",
        "print(f\"Umur anda : {umur} tahun\")\n",
        "print(type(umur))"
      ]
    },
    {
      "cell_type": "code",
      "source": [
        "nama_depan = \"Yusuf\"\n",
        "nama_belakang = \"Abdurrahman\"\n",
        "umur = 18\n",
        "\n",
        "nama_lengkap = nama_depan + \" \" + nama_belakang\n",
        "print(nama_lengkap)\n",
        "\n",
        "panjang_nama_depan = len(nama_depan)\n",
        "print(panjang_nama_depan)\n",
        "\n",
        "slicing = nama_depan[0:2]\n",
        "print(slicing)\n",
        "\n",
        "print(nama_depan.upper())\n",
        "print(nama_depan.lower())\n",
        "print(nama_lengkap.title())\n",
        "print(nama_lengkap.capitalize())\n",
        "print(nama_lengkap.strip())\n",
        "\n",
        "kalimat = \"i love the py\"\n",
        "print(kalimat.replace(\"py\",\"python\"))"
      ],
      "metadata": {
        "colab": {
          "base_uri": "https://localhost:8080/"
        },
        "id": "rSusz7xda_zz",
        "outputId": "771a7b2c-1068-4248-a259-d87a281c239c"
      },
      "execution_count": 36,
      "outputs": [
        {
          "output_type": "stream",
          "name": "stdout",
          "text": [
            "Yusuf Abdurrahman\n",
            "5\n",
            "Yu\n",
            "YUSUF\n",
            "yusuf\n",
            "Yusuf Abdurrahman\n",
            "Yusuf abdurrahman\n",
            "Yusuf Abdurrahman\n",
            "i love the python\n"
          ]
        }
      ]
    },
    {
      "cell_type": "code",
      "source": [
        "angka = int(input(\"Masukkan angka : \"))\n",
        "\n",
        "if angka == 0:\n",
        "  print(\"angka ini benar\")\n",
        "else:\n",
        "  print(\"angka ini salah\")"
      ],
      "metadata": {
        "colab": {
          "base_uri": "https://localhost:8080/"
        },
        "id": "cQdtnb6YHwFa",
        "outputId": "8aec260d-d9f4-4e43-e9dc-6d1880325227"
      },
      "execution_count": 37,
      "outputs": [
        {
          "output_type": "stream",
          "name": "stdout",
          "text": [
            "Masukkan angka : 2\n",
            "angka ini salah\n"
          ]
        }
      ]
    },
    {
      "cell_type": "code",
      "source": [
        "def angka_awal(angka):\n",
        "  def kali_dua(x):\n",
        "    return x * 2\n",
        "\n",
        "  return kali_dua(angka)\n",
        "print(angka_awal(2))"
      ],
      "metadata": {
        "colab": {
          "base_uri": "https://localhost:8080/"
        },
        "id": "boCDFrfoOBG2",
        "outputId": "2c7651c2-eaf6-48c4-855b-15c4d4a2c1ed"
      },
      "execution_count": 38,
      "outputs": [
        {
          "output_type": "stream",
          "name": "stdout",
          "text": [
            "4\n"
          ]
        }
      ]
    },
    {
      "cell_type": "code",
      "source": [
        "def sapa(nama):\n",
        "  print(\"hallo\", nama)\n",
        "\n",
        "sapa(\"Yusuf\")"
      ],
      "metadata": {
        "colab": {
          "base_uri": "https://localhost:8080/"
        },
        "id": "2hNTx4QqR9oB",
        "outputId": "9da5fe8c-10ea-42c8-99b0-1265f74fb1a3"
      },
      "execution_count": 39,
      "outputs": [
        {
          "output_type": "stream",
          "name": "stdout",
          "text": [
            "hallo Yusuf\n"
          ]
        }
      ]
    },
    {
      "cell_type": "code",
      "source": [
        "def hitung_luas_lingkaran(radius):\n",
        "  pi = 3.14159\n",
        "  luas = pi * radius * radius\n",
        "  return luas\n",
        "\n",
        "luas1 = hitung_luas_lingkaran(2)\n",
        "print(luas1)"
      ],
      "metadata": {
        "colab": {
          "base_uri": "https://localhost:8080/"
        },
        "id": "kV_mo3zPiAKt",
        "outputId": "256c807f-f2f4-4e6e-abfb-420f0f4c483d"
      },
      "execution_count": 40,
      "outputs": [
        {
          "output_type": "stream",
          "name": "stdout",
          "text": [
            "12.56636\n"
          ]
        }
      ]
    },
    {
      "cell_type": "code",
      "source": [
        "# kalkulator mini\n",
        "\n",
        "import math\n",
        "\n",
        "def tambah(a, b):\n",
        "  return a + b\n",
        "\n",
        "def kurang(a, b):\n",
        "  return a - b\n",
        "\n",
        "def kali(a, b):\n",
        "  return a * b\n",
        "\n",
        "def bagi(a, b):\n",
        "    if b == 0:\n",
        "        return \"Error: tidak bisa dibagi 0!\"\n",
        "    return a / b\n",
        "\n",
        "def modulus(a, b):\n",
        "    return a % b\n",
        "\n",
        "def pangkat(a, b):\n",
        "    return a ** b\n",
        "\n",
        "def akar(a):\n",
        "    return math.sqrt(a)\n",
        "\n",
        "print(\"silahkan pilih operator\")\n",
        "print(\"1. tambah\")\n",
        "print(\"2. kurang\")\n",
        "print(\"3. kali\")\n",
        "print(\"4. bagi\")\n",
        "print(\"5. pangkat\")\n",
        "print(\"6. akar\")\n",
        "\n",
        "pilihan = input(\"masukkan pilihan (1/2/3/4/5/6)\")\n",
        "\n",
        "if pilihan == \"6\":\n",
        "  input_akar = float(input(\"masukkan angka : \"))\n",
        "  print(\"hasil\", akar(input_akar))\n",
        "\n",
        "else:\n",
        "  input1 = int(input(\"Masukkan angka pertama : \"))\n",
        "  input2 = int(input(\"Masukkan angka kedua : \"))\n",
        "\n",
        "if pilihan == \"1\":\n",
        "  print(\"hasil\", tambah(input1,input2))\n",
        "\n",
        "elif pilihan == \"2\":\n",
        "  print(\"hasil\", kurang(input1,input2))\n",
        "\n",
        "elif pilihan == \"3\":\n",
        "  print(\"hasil\", kali(input1,input2))"
      ],
      "metadata": {
        "colab": {
          "base_uri": "https://localhost:8080/"
        },
        "id": "931h8ljjnuqC",
        "outputId": "f7983862-0a5a-4bda-8c3a-82a1cf8a256d"
      },
      "execution_count": 41,
      "outputs": [
        {
          "output_type": "stream",
          "name": "stdout",
          "text": [
            "silahkan pilih operator\n",
            "1. tambah\n",
            "2. kurang\n",
            "3. kali\n",
            "4. bagi\n",
            "5. pangkat\n",
            "6. akar\n",
            "masukkan pilihan (1/2/3/4/5/6)2\n",
            "Masukkan angka pertama : 2\n",
            "Masukkan angka kedua : 2\n",
            "hasil 0\n"
          ]
        }
      ]
    },
    {
      "cell_type": "code",
      "source": [
        "# keyword argument\n",
        "\n",
        "def perkenalan(nama, kota, umur):\n",
        "  print(\"nama = \", nama)\n",
        "  print(\"kota = \", kota)\n",
        "  print(\"umur = \", umur)\n",
        "\n",
        "# menggunakan argument biasa\n",
        "perkenalan(\"Yusuf\", \"test\", 18)\n",
        "\n",
        "# menggunakan keyword argument\n",
        "perkenalan(kota = \"testing\", nama = \"yusuf\", umur = 18)"
      ],
      "metadata": {
        "colab": {
          "base_uri": "https://localhost:8080/"
        },
        "id": "0h0JGoupxGtx",
        "outputId": "708db744-b00a-4162-95e8-1391c68e7f2a"
      },
      "execution_count": 42,
      "outputs": [
        {
          "output_type": "stream",
          "name": "stdout",
          "text": [
            "nama =  Yusuf\n",
            "kota =  test\n",
            "umur =  18\n",
            "nama =  yusuf\n",
            "kota =  testing\n",
            "umur =  18\n"
          ]
        }
      ]
    },
    {
      "cell_type": "code",
      "source": [
        "def cetak_list(*list):\n",
        "  for l in list:\n",
        "    print(l)\n",
        "\n",
        "cetak_list(1,2,3,4,5,6)"
      ],
      "metadata": {
        "colab": {
          "base_uri": "https://localhost:8080/"
        },
        "id": "4IlQMzU15utF",
        "outputId": "d094295a-0016-4443-df21-08ed98d543d4"
      },
      "execution_count": 43,
      "outputs": [
        {
          "output_type": "stream",
          "name": "stdout",
          "text": [
            "1\n",
            "2\n",
            "3\n",
            "4\n",
            "5\n",
            "6\n"
          ]
        }
      ]
    },
    {
      "cell_type": "code",
      "source": [
        "def cetak_dict(**dict):\n",
        "  for key, value in dict.items():\n",
        "    print(f\"{key} : {value}\")\n",
        "\n",
        "cetak_dict(nama=\"yusuf\")"
      ],
      "metadata": {
        "colab": {
          "base_uri": "https://localhost:8080/"
        },
        "id": "cpp4WsqaY7Co",
        "outputId": "a6be1955-0106-4fc7-b38a-d3d2b09e96c1"
      },
      "execution_count": 44,
      "outputs": [
        {
          "output_type": "stream",
          "name": "stdout",
          "text": [
            "nama : yusuf\n"
          ]
        }
      ]
    }
  ]
}